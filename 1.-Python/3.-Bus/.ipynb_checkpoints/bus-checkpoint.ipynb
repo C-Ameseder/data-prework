{
 "cells": [
  {
   "cell_type": "markdown",
   "metadata": {},
   "source": [
    "<img src=\"https://bit.ly/2VnXWr2\" width=\"100\" align=\"left\">"
   ]
  },
  {
   "cell_type": "markdown",
   "metadata": {},
   "source": [
    "# Bus\n",
    "\n",
    "This bus has a passenger entry and exit control system to monitor the number of occupants it carries and thus detect when there are too many.\n",
    "\n",
    "At each stop, the entry and exit of passengers is represented by a tuple consisting of two integer numbers.\n",
    "```\n",
    "bus_stop = (in, out)\n",
    "```\n",
    "The succession of stops is represented by a list of these tuples.\n",
    "```\n",
    "stops = [(in1, out1), (in2, out2), (in3, out3), (in4, out4)]\n",
    "```\n",
    "\n",
    "## Tools\n",
    "You don't necessarily need to use all the tools. Maybe you opt to use some of them or completely different ones, they are given to help you shape the exercise. Programming exercises can be solved in many different ways.\n",
    "* Data structures: **lists, tuples**\n",
    "* Loop: **while/for loops**\n",
    "* Functions: **min, max, len**\n",
    "\n",
    "## Tasks"
   ]
  },
  {
   "cell_type": "code",
   "execution_count": 1,
   "metadata": {},
   "outputs": [],
   "source": [
    "# Variables\n",
    "stops = [(10, 0), (4, 1), (3, 5), (3, 4), (5, 1), (1, 5), (5, 8), (4, 6), (2, 3)]"
   ]
  },
  {
   "cell_type": "markdown",
   "metadata": {},
   "source": [
    "#### 1. Calculate the number of stops."
   ]
  },
  {
   "cell_type": "code",
   "execution_count": 2,
   "metadata": {},
   "outputs": [
    {
     "data": {
      "text/plain": [
       "9"
      ]
     },
     "execution_count": 2,
     "metadata": {},
     "output_type": "execute_result"
    }
   ],
   "source": [
    "len(stops)"
   ]
  },
  {
   "cell_type": "markdown",
   "metadata": {},
   "source": [
    "#### 2. Assign to a variable a list whose elements are the number of passengers at each stop (in-out).\n",
    "Each item depends on the previous item in the list + in - out."
   ]
  },
  {
   "cell_type": "code",
   "execution_count": 3,
   "metadata": {},
   "outputs": [
    {
     "name": "stdout",
     "output_type": "stream",
     "text": [
      "[10, 13, 11, 10, 14, 10, 7, 5, 4]\n"
     ]
    }
   ],
   "source": [
    "#creating a list with the number of passengers in the bus calculating entry-exit for each station and sum it up\n",
    "num_passenger_bus = []\n",
    "num_passenger = 0\n",
    "\n",
    "for p in range(0,len(stops)):\n",
    "    num_passenger += stops[p][0] - stops[p][1]\n",
    "    num_passenger_bus.append(num_passenger)\n",
    "print(num_passenger_bus)\n"
   ]
  },
  {
   "cell_type": "markdown",
   "metadata": {},
   "source": [
    "#### 3. Find the maximum occupation of the bus."
   ]
  },
  {
   "cell_type": "code",
   "execution_count": 4,
   "metadata": {},
   "outputs": [
    {
     "name": "stdout",
     "output_type": "stream",
     "text": [
      "The maximum occuoaption of the bus is 14 passangers at station 5\n"
     ]
    }
   ],
   "source": [
    "print(\"The maximum occuoaption of the bus is\", max(num_passenger_bus), \"passangers at station\", num_passenger_bus.index(max(num_passenger_bus))+1)"
   ]
  },
  {
   "cell_type": "markdown",
   "metadata": {},
   "source": [
    "#### 4. Calculate the average occupation. And the standard deviation."
   ]
  },
  {
   "cell_type": "code",
   "execution_count": 5,
   "metadata": {},
   "outputs": [
    {
     "name": "stdout",
     "output_type": "stream",
     "text": [
      "The standard deviation is 10.0 passengers\n",
      "The average occupation is at 9 passengers\n"
     ]
    }
   ],
   "source": [
    "#using numpy now for it (2 previous exercixes did it without)\n",
    "import numpy as np\n",
    "print(\"The standard deviation is\", round(np.var(num_passenger_bus),0), \"passengers\")\n",
    "print(\"The average occupation is at\", round(np.mean(num_passenger_bus,0)), \"passengers\")"
   ]
  },
  {
   "cell_type": "code",
   "execution_count": null,
   "metadata": {},
   "outputs": [],
   "source": []
  }
 ],
 "metadata": {
  "kernelspec": {
   "display_name": "Python 3",
   "language": "python",
   "name": "python3"
  },
  "language_info": {
   "codemirror_mode": {
    "name": "ipython",
    "version": 3
   },
   "file_extension": ".py",
   "mimetype": "text/x-python",
   "name": "python",
   "nbconvert_exporter": "python",
   "pygments_lexer": "ipython3",
   "version": "3.8.5"
  }
 },
 "nbformat": 4,
 "nbformat_minor": 2
}
