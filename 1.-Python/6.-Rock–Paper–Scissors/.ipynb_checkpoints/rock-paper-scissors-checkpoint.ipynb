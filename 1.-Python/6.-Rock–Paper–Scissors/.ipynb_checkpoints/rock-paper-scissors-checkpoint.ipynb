{
 "cells": [
  {
   "cell_type": "markdown",
   "metadata": {},
   "source": [
    "<img src=\"https://bit.ly/2VnXWr2\" width=\"100\" align=\"left\">"
   ]
  },
  {
   "cell_type": "markdown",
   "metadata": {},
   "source": [
    "# Rock, Paper & Scissors\n",
    "\n",
    "Let's play the famous game against our computer. You can check the rules [here](https://en.wikipedia.org/wiki/Rock%E2%80%93paper%E2%80%93scissors). \n",
    "\n",
    "## Task\n",
    "Create a program that imitates the playability of the well known game of rock, paper, scissors. Follow the guidelines provided.\n",
    "\n",
    "## Tools\n",
    "1. Loop: **for/while**\n",
    "2. Functions: **input(), print()...**\n",
    "3. Conditional statements: **if, elif, else**\n",
    "4. Definition of functions. Modular programming\n",
    "5. Import modules\n",
    "\n",
    "**To solve this challenge, the use of functions is recommended.**\n",
    "\n",
    "#### 1. Import the choice function of the random module."
   ]
  },
  {
   "cell_type": "code",
   "execution_count": 1,
   "metadata": {},
   "outputs": [],
   "source": [
    "import random"
   ]
  },
  {
   "cell_type": "markdown",
   "metadata": {},
   "source": [
    "#### 2. Create a list that includes the 3 possible gesture options of the game: 'rock', 'paper' or 'scissors'. Store the list in a variable called `gestures`."
   ]
  },
  {
   "cell_type": "code",
   "execution_count": 2,
   "metadata": {},
   "outputs": [],
   "source": [
    "gestures_3 = ['r', 's', 'p']"
   ]
  },
  {
   "cell_type": "markdown",
   "metadata": {},
   "source": [
    "#### 3. Create a variable called `n_rounds` to store the maximum number of rounds to play in a game. \n",
    "Remember that the number of rounds must be odd: 1, 3, 5, ..."
   ]
  },
  {
   "cell_type": "code",
   "execution_count": 3,
   "metadata": {},
   "outputs": [],
   "source": [
    "n = 3"
   ]
  },
  {
   "cell_type": "markdown",
   "metadata": {},
   "source": [
    "#### 4. Create a variable called `rounds_to_win` to store the number of rounds that a player must win to win the game.\n",
    "**Hint**: the value stored in `rounds_to_win` depends on the value of `n_rounds`. "
   ]
  },
  {
   "cell_type": "code",
   "execution_count": 4,
   "metadata": {},
   "outputs": [],
   "source": [
    "rounds_to_win = (n+1) / 2"
   ]
  },
  {
   "cell_type": "markdown",
   "metadata": {},
   "source": [
    "#### 5. Create two variables to store the number of rounds that the computer and the player have won. Call these variables `cpu_score` and `player_score`."
   ]
  },
  {
   "cell_type": "code",
   "execution_count": 5,
   "metadata": {},
   "outputs": [],
   "source": [
    "cpu_score = 0\n",
    "player_score = 0"
   ]
  },
  {
   "cell_type": "markdown",
   "metadata": {},
   "source": [
    "#### 6. Define a function that randomly returns one of the 3 gesture options.\n",
    "You will use this function to simulate the gesture choice of the computer. "
   ]
  },
  {
   "cell_type": "code",
   "execution_count": 6,
   "metadata": {},
   "outputs": [],
   "source": [
    "def rand_g(gest):\n",
    "    return random.choice(gest)"
   ]
  },
  {
   "cell_type": "markdown",
   "metadata": {},
   "source": [
    "#### 7. Define a function that asks the player which is the gesture he or she wants to show: 'rock', 'paper' or 'scissors'.\n",
    "The player should only be allowed to choose one of the 3 gesture options. If the player's choice is not rock, paper or scissors, keep asking until it is."
   ]
  },
  {
   "cell_type": "code",
   "execution_count": 7,
   "metadata": {},
   "outputs": [],
   "source": [
    "#instructions for Rock_Paper_Scissors\n",
    "def instructions_3():\n",
    "    print()\n",
    "    print(\"Instructions for Rock-Paper-Scissors:\")\n",
    "    print()\n",
    "    print(\"Rock crushes Scissors\")\n",
    "    print(\"Scissors cut Paper\")\n",
    "    print(\"Paper covers Rock\")\n",
    "    print()\n",
    "\n",
    "in_p_3=\"rock (r), paper(p), scissors (s), or intructions (i): \"\n",
    "    \n",
    "def input_pl(in_p, gest):\n",
    "    '''function for user input in_p, check if the input is valid with list gest(gestures)'''\n",
    "    while True:\n",
    "        print(\"Choose one of these options:\")\n",
    "        player_ch = input(in_p) \n",
    "        if player_ch in gest:\n",
    "            return player_ch\n",
    "            break\n",
    "        elif player_ch == 'i':\n",
    "            instructions_3()\n",
    "        else:\n",
    "            print(\"WRONG INPUT\")  \n",
    "        continue       "
   ]
  },
  {
   "cell_type": "markdown",
   "metadata": {},
   "source": [
    "#### 8. Define a function that checks who won a round. \n",
    "The function should return 0 if there is a tie, 1 if the computer wins and 2 if the player wins."
   ]
  },
  {
   "cell_type": "markdown",
   "metadata": {},
   "source": [
    "#### 9. Define a function that prints the choice of the computer, the choice of the player and a message that announces who won the current round. \n",
    "You should also use this function to update the variables that count the number of rounds that the computer and the player have won. The score of the winner increases by one point. If there is a tie, the score does not increase."
   ]
  },
  {
   "cell_type": "code",
   "execution_count": 8,
   "metadata": {},
   "outputs": [],
   "source": [
    "#define a win-lose matrix\n",
    "matrix_3 = [['r','s'],[1], ['r','p'],[-1],['r','r'],[0],\n",
    "            ['s','p'],[1], ['s','r'],[-1],['s','s'],[0],\n",
    "            ['p','s'],[1], ['p','s'],[-1],['p','p'],[0]]\n",
    "\n",
    "def win(pl,ra, matrix):\n",
    "    '''creating a list with user input(pl) and random choice(ra) called game,''' \n",
    "    '''iterate over win_lose matrix and return then the proper value [i+1] with 1 for win, -1 for lose and 0 for tie'''\n",
    "    game = [pl, ra]\n",
    "    print(\"Players choice:\", game[0])\n",
    "    print(\"Computers choice:\", game[1])\n",
    "    print()\n",
    "    \n",
    "#loop over the matrix\n",
    "    for i in range(0,len(matrix)):\n",
    "        if game == matrix[i]:\n",
    "            return (matrix[i+1])\n",
    "    return False"
   ]
  },
  {
   "cell_type": "code",
   "execution_count": 9,
   "metadata": {},
   "outputs": [],
   "source": [
    "def score(winner):\n",
    "    '''announcing winner and keeping score using input from win function'''\n",
    "    global player_score, cpu_score\n",
    "    if winner == [1]:\n",
    "        print(\"PLAYER WINS\")\n",
    "        player_score = player_score + 1\n",
    "        return \n",
    "    \n",
    "    elif winner == [-1]:\n",
    "        print(\"COMPUTER WINS\")\n",
    "        cpu_score = cpu_score +1\n",
    "        return\n",
    "    \n",
    "    return print(\"ITS A TIE\")  "
   ]
  },
  {
   "cell_type": "markdown",
   "metadata": {},
   "source": [
    "#### 10. Now it's time to code the execution of the game using the functions and variables you defined above. \n",
    "\n",
    "First, create a loop structure that repeats while no player reaches the minimum score necessary to win and the number of rounds is less than the maximum number of rounds to play in a game.  \n",
    "\n",
    "Inside the loop, use the functions and variables above to create the execution of a round: ask for the player's choice, generate the random choice of the computer, show the round results, update the scores, etc. "
   ]
  },
  {
   "cell_type": "code",
   "execution_count": 10,
   "metadata": {},
   "outputs": [
    {
     "name": "stdout",
     "output_type": "stream",
     "text": [
      "Welcome to Rock-Scissors-Paper\n",
      "\n",
      "Instructions for Rock-Paper-Scissors:\n",
      "\n",
      "Rock crushes Scissors\n",
      "Scissors cut Paper\n",
      "Paper covers Rock\n",
      "\n",
      "Choose one of these options:\n",
      "rock (r), paper(p), scissors (s), or intructions (i): r\n",
      "Players choice: r\n",
      "Computers choice: s\n",
      "\n",
      "PLAYER WINS\n",
      "Player : Computer\n",
      "   1    :    0\n",
      "\n",
      "Choose one of these options:\n",
      "rock (r), paper(p), scissors (s), or intructions (i): p\n",
      "Players choice: p\n",
      "Computers choice: p\n",
      "\n",
      "ITS A TIE\n",
      "Player : Computer\n",
      "   1    :    0\n",
      "\n",
      "Choose one of these options:\n",
      "rock (r), paper(p), scissors (s), or intructions (i): p\n",
      "Players choice: p\n",
      "Computers choice: p\n",
      "\n",
      "ITS A TIE\n",
      "Player : Computer\n",
      "   1    :    0\n",
      "\n"
     ]
    }
   ],
   "source": [
    "print(\"Welcome to Rock-Scissors-Paper\")\n",
    "instructions_3()\n",
    "while n > 0:\n",
    "    score(win(input_pl(in_p_3, gestures_3), rand_g(gestures_3), matrix_3))\n",
    "    print (\"Player : Computer\")\n",
    "    print (\"  \", player_score,\"   :   \", cpu_score)\n",
    "    print()\n",
    "    n = n -1"
   ]
  },
  {
   "cell_type": "markdown",
   "metadata": {},
   "source": [
    "#### 11. Print the winner of the game based on who won more rounds.\n",
    "Remember that the game might be tied. "
   ]
  },
  {
   "cell_type": "code",
   "execution_count": 11,
   "metadata": {},
   "outputs": [
    {
     "name": "stdout",
     "output_type": "stream",
     "text": [
      "\n",
      "End of the game\n",
      "--------------------\n",
      "!!! YOU WON !!!\n",
      "Player : Computer\n",
      "   1   :    0\n",
      "--------------------\n"
     ]
    }
   ],
   "source": [
    "def result():\n",
    "    '''announcing the winner, printing scores'''\n",
    "    print()\n",
    "    print(\"End of the game\")\n",
    "    if player_score > cpu_score:\n",
    "        print(\"--------------------\")\n",
    "        print (\"!!! YOU WON !!!\")\n",
    "        print (\"Player : Computer\")\n",
    "        print (\"  \", player_score,\"  :   \", cpu_score)\n",
    "        print(\"--------------------\")\n",
    "    \n",
    "    elif player_score < cpu_score:\n",
    "        print(\"--------------------\")\n",
    "        print (\" COMPUTER WON \")\n",
    "        print (\"Player : Computer\")\n",
    "        print (\"  \", player_score,\"  :   \", cpu_score)\n",
    "        print(\"--------------------\")\n",
    "    \n",
    "    else:\n",
    "        print(\"--------------------\")\n",
    "        print(\"ITS A TIE\")\n",
    "        print (\"Player : Computer\")\n",
    "        print (\"  \", player_score,\"  :   \", cpu_score)\n",
    "        print(\"--------------------\")\n",
    "result()"
   ]
  },
  {
   "cell_type": "markdown",
   "metadata": {},
   "source": [
    "# Bonus: Rock, Paper, Scissors, Lizard & Spock\n",
    "![](images/rpsls.jpg)\n",
    "\n",
    "In this challenge, you need to improve the previous game by adding two new options. To know more about the rules of the improved version of rock, paper, scissors, check this [link](http://www.samkass.com/theories/RPSSL.html). \n",
    "\n",
    "In addition, you will also need to improve how the game interacts with the player: the number of rounds to play, which must be an odd number, will be requested to the user until a valid number is entered. Define a new function to make that request.\n",
    "\n",
    "**Hint**: Try to reuse the code that you already coded in the previous challenge. If your code is efficient, this bonus will only consist of simple modifications to the original game."
   ]
  },
  {
   "cell_type": "code",
   "execution_count": 12,
   "metadata": {},
   "outputs": [
    {
     "name": "stdout",
     "output_type": "stream",
     "text": [
      "Welcome to Rock-Scissors-Paper-Lizard-Spock\n",
      "\n",
      "Instructions for Rock (r)-Paper(p)-Scissors(s)-Lizard(l)-Spock(v):\n",
      "\n",
      "Rock crushes Scissors\n",
      "Rock crushes Lizard\n",
      "Scissors cut Paper\n",
      "Scissors cut Lizard\n",
      "Paper covers Rock\n",
      "Paper disproves Spock\n",
      "Lizard eats Paper\n",
      "Lizard poisons Spock\n",
      "Spock vaporizes Rock\n",
      "Spock smashes Scissors\n",
      "\n",
      "Rock=r, Scissors=s, Paper=p, Lizard=l, Spock=v (as Spock is from Vulcan we gave hom the letter v)\n",
      "\n",
      "how many rounds you want to play? (Put a number between 1 and 10:)3\n",
      "playing 3 round(s)\n",
      "Choose one of these options:\n",
      "rock (r), paper(p), scissors (s), lizard(l), spock(v) or intructions (i): l\n",
      "Players choice: l\n",
      "Computers choice: s\n",
      "\n",
      "COMPUTER WINS\n",
      "Player : Computer\n",
      "   0    :    1\n",
      "Choose one of these options:\n",
      "rock (r), paper(p), scissors (s), lizard(l), spock(v) or intructions (i): v\n",
      "Players choice: v\n",
      "Computers choice: v\n",
      "\n",
      "ITS A TIE\n",
      "Player : Computer\n",
      "   0    :    1\n",
      "Choose one of these options:\n",
      "rock (r), paper(p), scissors (s), lizard(l), spock(v) or intructions (i): v\n",
      "Players choice: v\n",
      "Computers choice: s\n",
      "\n",
      "PLAYER WINS\n",
      "Player : Computer\n",
      "   1    :    1\n",
      "\n",
      "End of the game\n",
      "--------------------\n",
      "ITS A TIE\n",
      "Player : Computer\n",
      "   1   :    1\n",
      "--------------------\n"
     ]
    }
   ],
   "source": [
    "#adding 'l' for lizzard and 'v' for spock, as he is from vulcan\n",
    "gestures_5 = ['r', 's', 'p', 'l', 'v']\n",
    "    \n",
    "#define a win-lose matrix\n",
    "matrix_5 = [['r','s'],[1], ['r','p'],[-1],['r','r'],[0],['r','l'],[1], ['r','v'],[-1],\n",
    "            ['s','p'],[1], ['s','r'],[-1],['s','s'],[0],['s','l'],[1], ['s','v'],[-1],\n",
    "            ['p','s'],[1], ['p','s'],[-1],['p','p'],[0],['p','v'],[1], ['p','l'],[-1],\n",
    "            ['l','p'],[1], ['l','s'],[-1],['l','l'],[0],['l','v'],[1], ['l','r'],[-1],\n",
    "            ['v','r'],[1], ['v','p'],[-1],['v','v'],[0],['v','s'],[1], ['v','l'],[-1]]\n",
    "\n",
    "def instructions_5():\n",
    "    '''instructions for Rock-Paper-Scissors-Lizard_Spock'''\n",
    "    print()\n",
    "    print(\"Instructions for Rock (r)-Paper(p)-Scissors(s)-Lizard(l)-Spock(v):\")\n",
    "    print()\n",
    "    print(\"Rock crushes Scissors\")\n",
    "    print(\"Rock crushes Lizard\")\n",
    "    print(\"Scissors cut Paper\")\n",
    "    print(\"Scissors cut Lizard\")\n",
    "    print(\"Paper covers Rock\")\n",
    "    print(\"Paper disproves Spock\")\n",
    "    print(\"Lizard eats Paper\")\n",
    "    print(\"Lizard poisons Spock\")\n",
    "    print(\"Spock vaporizes Rock\")\n",
    "    print(\"Spock smashes Scissors\")\n",
    "    print()\n",
    "    print(\"Rock=r, Scissors=s, Paper=p, Lizard=l, Spock=v (as Spock is from Vulcan we gave hom the letter v)\")\n",
    "    print()\n",
    "    \n",
    "in_p_5=\"rock (r), paper(p), scissors (s), lizard(l), spock(v) or intructions (i): \"\n",
    "cpu_score = 0\n",
    "player_score = 0\n",
    "\n",
    "#main\n",
    "print(\"Welcome to Rock-Scissors-Paper-Lizard-Spock\")\n",
    "instructions_5()\n",
    "while True:\n",
    "    try:\n",
    "        n = int(input(\"how many rounds you want to play? (Put a number between 1 and 10:)\"))\n",
    "        print(\"playing\",n,\"round(s)\")\n",
    "        break\n",
    "    except ValueError:\n",
    "        print(\"WRONG INPUT\")  \n",
    "        continue \n",
    "\n",
    "while n > 0:\n",
    "    score(win(input_pl(in_p_5, gestures_5), rand_g(gestures_5), matrix_5))\n",
    "    print (\"Player : Computer\")\n",
    "    print (\"  \", player_score,\"   :   \", cpu_score)\n",
    "    n = n -1\n",
    "result()"
   ]
  }
 ],
 "metadata": {
  "kernelspec": {
   "display_name": "Python 3",
   "language": "python",
   "name": "python3"
  },
  "language_info": {
   "codemirror_mode": {
    "name": "ipython",
    "version": 3
   },
   "file_extension": ".py",
   "mimetype": "text/x-python",
   "name": "python",
   "nbconvert_exporter": "python",
   "pygments_lexer": "ipython3",
   "version": "3.8.5"
  }
 },
 "nbformat": 4,
 "nbformat_minor": 2
}
