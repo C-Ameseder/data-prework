{
 "cells": [
  {
   "cell_type": "code",
   "execution_count": 3,
   "metadata": {},
   "outputs": [
    {
     "name": "stdout",
     "output_type": "stream",
     "text": [
      "Im in score\n",
      "COMPUTER WINS - Player  :Computer  0 : 0\n",
      "Player : Computer  0 : 0\n"
     ]
    }
   ],
   "source": [
    "win = [-1]\n",
    "player_score = 0\n",
    "cpu_score = 0\n",
    "def score(winner):\n",
    "    global player_score, cpu_score\n",
    "    print(\"Im in score\")\n",
    "    if winner == [1]:\n",
    "        print(\"PLAYER WINS - Player : Computer \", player_score, \":\", cpu_score)\n",
    "        return player_score + 1\n",
    "    elif winner == [-1]:\n",
    "        print(\"COMPUTER WINS - Player  :Computer \", player_score, \":\", cpu_score)\n",
    "        return cpu_score + 1\n",
    "    return print(\"ITS A TIE - Player : Computer \", player_score, \":\", cpu_score)\n",
    "score(win)\n",
    "print(\"Player : Computer \", player_score, \":\", cpu_score)"
   ]
  },
  {
   "cell_type": "code",
   "execution_count": null,
   "metadata": {},
   "outputs": [],
   "source": []
  },
  {
   "cell_type": "code",
   "execution_count": null,
   "metadata": {},
   "outputs": [],
   "source": []
  },
  {
   "cell_type": "code",
   "execution_count": null,
   "metadata": {},
   "outputs": [],
   "source": []
  }
 ],
 "metadata": {
  "kernelspec": {
   "display_name": "Python 3",
   "language": "python",
   "name": "python3"
  },
  "language_info": {
   "codemirror_mode": {
    "name": "ipython",
    "version": 3
   },
   "file_extension": ".py",
   "mimetype": "text/x-python",
   "name": "python",
   "nbconvert_exporter": "python",
   "pygments_lexer": "ipython3",
   "version": "3.8.5"
  }
 },
 "nbformat": 4,
 "nbformat_minor": 4
}
