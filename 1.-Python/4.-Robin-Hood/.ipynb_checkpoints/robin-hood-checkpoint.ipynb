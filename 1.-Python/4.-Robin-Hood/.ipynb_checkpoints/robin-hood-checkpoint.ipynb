{
 "cells": [
  {
   "cell_type": "markdown",
   "metadata": {},
   "source": [
    "<img src=\"https://bit.ly/2VnXWr2\" width=\"100\" align=\"left\"/>"
   ]
  },
  {
   "cell_type": "markdown",
   "metadata": {},
   "source": [
    "# Robin Hood\n",
    "Robin Hood has entered a competition to win the archery contest in Sherwood. With his bow and arrows, he needs to shoot on a target and try to hit as close as possible to the center.\n",
    "\n",
    "![](images/arrows.jpg)\n",
    "\n",
    "## Context\n",
    "In this challenge, the landing position of arrows shot by archers in the competition will be represented using 2-dimensional coordinates. \n",
    "\n",
    "In the 2-dimensional space, a point can be defined by a pair of values that correspond to the horizontal coordinate (x) and the vertical coordinate (y). For example, in our case, an arrow that hits the center of the archery target will land in position (0, 0) on the coordinate axes. \n",
    "\n",
    "The space can be divided into 4 zones (quadrants): Q1, Q2, Q3, Q4. If a point is in Q1, both its x coordinate and y coordinate are positive. Any point with a null x or y coordinate is considered to not belong to any quadrant. \n",
    "\n",
    "If you want to know more about the cartesian coordinate system, you can check this [link](https://en.wikipedia.org/wiki/Cartesian_coordinate_system). \n",
    "\n",
    "## Tools\n",
    "You don't necessarily need to use all the tools. Maybe you opt to use some of them or completely different ones, they are given to help you shape the exercise. Programming exercises can be solved in many different ways.\n",
    "* Data structures: **lists, sets, tuples**\n",
    "* Conditional statements: **if-elif-else**\n",
    "* Loop: **while/for**\n",
    "* Minimum (optional sorting)\n",
    "\n",
    "## Tasks\n",
    "Robin Hood has hit the following points:"
   ]
  },
  {
   "cell_type": "code",
   "execution_count": 1,
   "metadata": {},
   "outputs": [],
   "source": [
    "points = [(4, 5), (-0, 2), (4, 7), (1, -3), (3, -2), (4, 5), (3, 2), (5, 7), (-5, 7), (2, 2), (-4, 5), (0, -2),\n",
    "          (-4, 7), (-1, 3), (-3, 2), (-4, -5), (-3, 2), (5, 7), (5, 7), (2, 2), (9, 9), (-8, -9)]"
   ]
  },
  {
   "cell_type": "markdown",
   "metadata": {},
   "source": [
    "#### 1. Robin Hood is famous for hitting an arrow with another arrow. Find the coordinates of the points where an arrow hits another arrow."
   ]
  },
  {
   "cell_type": "code",
   "execution_count": 2,
   "metadata": {},
   "outputs": [
    {
     "name": "stdout",
     "output_type": "stream",
     "text": [
      "[(4, 5), (-3, 2), (5, 7), (5, 7), (2, 2)]\n"
     ]
    }
   ],
   "source": [
    "# generating 2 lists one for values that are only once in ther, one for doubles.\n",
    "seen = []\n",
    "dupes =[]\n",
    "# if a list points is not (yet) in seen - put it there\n",
    "# if its in the list (from prev iteration) put it in the list for doubles\n",
    "for i in points:\n",
    "    if i not in seen:\n",
    "        seen.append(i)\n",
    "    else:\n",
    "        dupes.append(i)\n",
    "print(dupes)"
   ]
  },
  {
   "cell_type": "markdown",
   "metadata": {},
   "source": [
    "#### 2. Calculate how many arrows have fallen in each quadrant. \n",
    "**Note**: the arrows that fall in the axis (x=0 or y=0) don't belong to any quadrant."
   ]
  },
  {
   "cell_type": "code",
   "execution_count": 3,
   "metadata": {},
   "outputs": [
    {
     "name": "stdout",
     "output_type": "stream",
     "text": [
      "10 arrows hit the first quadrant, 2 the second, 2 the third, 6 the fourth and 2 arrows hit exactly the line in between quadrants.\n"
     ]
    }
   ],
   "source": [
    "#set new var to 0\n",
    "Q1 = 0\n",
    "Q2 = 0\n",
    "Q3 = 0\n",
    "Q4 = 0\n",
    "zeros = 0\n",
    "\n",
    "# iterate over points, see which number is positive/negative for Q1(1,1), Q2(-1,1), Q3(-1,-1), Q4(-1,1), rest into zeros\n",
    "for l in range(0,len(points)):\n",
    "    if points[l][0] > 0 and points[l][1] > 0:\n",
    "        Q1 = Q1 + 1\n",
    "    elif points[l][0] < 0 and points[l][1] > 0:\n",
    "        Q2 = Q2 + 1  \n",
    "    elif points[l][0] < 0 and points[l][1] < 0:\n",
    "        Q3 = Q3 + 1 \n",
    "    elif points[l][0] > 0 and points[l][1] > 0:\n",
    "        Q4 = Q4 + 1 \n",
    "    else:\n",
    "        zeros = zeros + 1\n",
    "        \n",
    "print(Q1, \"arrows hit the first quadrant,\", Q2, \"the second,\", Q3, \"the third,\", Q4, \"the fourth and\", \n",
    "      zeros, \"arrows hit exactly the line in between quadrants.\")\n"
   ]
  },
  {
   "cell_type": "markdown",
   "metadata": {},
   "source": [
    "#### 3. Find the point closest to the center. Calculate its distance to the center. \n",
    "Take into account that there might be more than one point at the minimum distance to the center.\n",
    "\n",
    "**Hint**: Use the Euclidean distance. You can find more information about it [here](https://en.wikipedia.org/wiki/Euclidean_distance).  \n",
    "**Hint**: Defining a function that calculates the distance to the center can help."
   ]
  },
  {
   "cell_type": "code",
   "execution_count": 4,
   "metadata": {},
   "outputs": [
    {
     "name": "stdout",
     "output_type": "stream",
     "text": [
      "the closest arrow(s) have a distance of 2.0 to the center and hit at\n",
      "(0, 2)\n",
      "(0, -2)\n"
     ]
    }
   ],
   "source": [
    "dist_center = []\n",
    "for l in range(0,len(points)):\n",
    "    dist = (points[l][0]**2 + points[l][1]**2)**0.5\n",
    "    dist_center.append(round(dist,2)) \n",
    "\n",
    "#as there are multiple min I have to loop over dist_center and create a list with its indexes\n",
    "indexes = [i for i, x in enumerate(dist_center) if x == min(dist_center)]\n",
    "\n",
    "print(\"the closest arrow(s) have a distance of\", min(dist_center), \"to the center and hit at\" )\n",
    "\n",
    "# and then iterate over indexes and print the tuples in points \n",
    "for i in indexes:\n",
    "    print(points[i])\n",
    "\n",
    "\n",
    "      "
   ]
  },
  {
   "cell_type": "markdown",
   "metadata": {},
   "source": [
    "#### 4. If the archery target has a radius of 9, calculate the number of arrows that won't hit the target. \n",
    "**Hint**: Use the function created in step 3. "
   ]
  },
  {
   "cell_type": "code",
   "execution_count": 6,
   "metadata": {},
   "outputs": [
    {
     "name": "stdout",
     "output_type": "stream",
     "text": [
      "2 arrows miss the target for the radius beeing at 9\n"
     ]
    }
   ],
   "source": [
    "# using the list dist_center and look for any values above 9\n",
    "miss = 0\n",
    "for i in dist_center:\n",
    "    if i > 9:\n",
    "        miss = miss+1\n",
    "print(miss, \"arrows miss the target for the radius beeing at 9\")"
   ]
  },
  {
   "cell_type": "code",
   "execution_count": null,
   "metadata": {},
   "outputs": [],
   "source": []
  }
 ],
 "metadata": {
  "kernelspec": {
   "display_name": "Python 3",
   "language": "python",
   "name": "python3"
  },
  "language_info": {
   "codemirror_mode": {
    "name": "ipython",
    "version": 3
   },
   "file_extension": ".py",
   "mimetype": "text/x-python",
   "name": "python",
   "nbconvert_exporter": "python",
   "pygments_lexer": "ipython3",
   "version": "3.8.5"
  }
 },
 "nbformat": 4,
 "nbformat_minor": 2
}
