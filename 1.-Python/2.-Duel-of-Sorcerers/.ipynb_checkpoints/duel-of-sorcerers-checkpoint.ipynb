{
 "cells": [
  {
   "cell_type": "markdown",
   "metadata": {},
   "source": [
    "<img src=\"https://bit.ly/2VnXWr2\" width=\"100\" align=\"left\">"
   ]
  },
  {
   "cell_type": "markdown",
   "metadata": {},
   "source": [
    "# Duel of Sorcerers\n",
    "You are witnessing an epic battle between two powerful sorcerers: Gandalf and Saruman. Each sorcerer has 10 spells of variable power in their mind and they are going to throw them one after the other. The winner of the duel will be the one who wins more of those clashes between spells. Spells are represented as a list of 10 integers whose value equals the power of the spell.\n",
    "```\n",
    "gandalf = [10, 11, 13, 30, 22, 11, 10, 33, 22, 22]\n",
    "saruman = [23, 66, 12, 43, 12, 10, 44, 23, 12, 17]\n",
    "```\n",
    "For example:\n",
    "- The first clash is won by Saruman: 10 against 23.\n",
    "- The second clash is won by Saruman: 11 against 66.\n",
    "- ...\n",
    "\n",
    "You will create two variables, one for each sorcerer, where the sum of clashes won will be stored. Depending on which variable is greater at the end of the duel, you will show one of the following three results on the screen:\n",
    "* Gandalf wins\n",
    "* Saruman wins\n",
    "* Tie\n",
    "\n",
    "<img src=\"images/content_lightning_bolt_big.jpg\" width=\"400\">"
   ]
  },
  {
   "cell_type": "markdown",
   "metadata": {},
   "source": [
    "## Tools\n",
    "You don't necessarily need to use all the tools. Maybe you opt to use some of them or completely different ones, they are given to help you shape the exercise. Programming exercises can be solved in many different ways.\n",
    "\n",
    "1. Data structures: **lists, dictionaries**\n",
    "2. Loop: **for loop**\n",
    "3. Conditional statements: **if-elif-else**\n",
    "4. Functions: **range(), len(), print()**\n",
    "\n",
    "## Tasks\n",
    "\n",
    "#### 1. Create two variables called `gandalf` and `saruman` and assign them the spell power lists. Create a variable called `spells` to store the number of spells that the sorcerers cast. "
   ]
  },
  {
   "cell_type": "code",
   "execution_count": 1,
   "metadata": {},
   "outputs": [],
   "source": [
    "gandalf = [10, 11, 13, 30, 22, 11, 10, 33, 22, 22]\n",
    "saruman = [23, 66, 12, 43, 12, 10, 44, 23, 12, 17]\n",
    "spells = []"
   ]
  },
  {
   "cell_type": "markdown",
   "metadata": {},
   "source": [
    "#### 2. Create two variables called `gandalf_wins` and `saruman_wins`. Set both of them to 0. \n",
    "You will use these variables to count the number of clashes each sorcerer wins. "
   ]
  },
  {
   "cell_type": "code",
   "execution_count": 2,
   "metadata": {},
   "outputs": [],
   "source": [
    "gandalf_win = 0\n",
    "saruman_win = 0\n",
    "tie = 0"
   ]
  },
  {
   "cell_type": "markdown",
   "metadata": {},
   "source": [
    "#### 3. Using the lists of spells of both sorcerers, update variables `gandalf_wins` and `saruman_wins` to count the number of times each sorcerer wins a clash. "
   ]
  },
  {
   "cell_type": "code",
   "execution_count": 3,
   "metadata": {},
   "outputs": [],
   "source": [
    "for n in range(0, len(gandalf)):   \n",
    "    if gandalf[n] > saruman[n]:\n",
    "        spells.append(1)\n",
    "    elif gandalf[n] < saruman[n]:\n",
    "        spells.append(-1)\n",
    "    else:\n",
    "        spells.append(0)\n",
    "\n",
    "gandalf_win = spells.count(1)\n",
    "saruman_win = spells.count(-1)\n",
    "tie = spells.count(0)\n",
    "\n",
    "\n",
    "    "
   ]
  },
  {
   "cell_type": "markdown",
   "metadata": {},
   "source": [
    "#### 4. Who won the battle?\n",
    "Print `Gandalf wins`, `Saruman wins` or `Tie` depending on the result. "
   ]
  },
  {
   "cell_type": "code",
   "execution_count": 4,
   "metadata": {},
   "outputs": [
    {
     "name": "stdout",
     "output_type": "stream",
     "text": [
      "Gandalf wins over Saruman with 6 : 4\n"
     ]
    }
   ],
   "source": [
    "if gandalf_win > saruman_win:\n",
    "    print(\"Gandalf wins over Saruman with\", gandalf_win, \":\", saruman_win)\n",
    "elif gandalf_win < saruman_win:\n",
    "    print(\"Saruman wins over Gandalf with\", gandalf_win, \":\", saruman_win)\n",
    "else:\n",
    "    print(\"It's a tie with\", gandalf_win, \":\", saruman_win)  "
   ]
  },
  {
   "cell_type": "markdown",
   "metadata": {},
   "source": [
    "## Bonus\n",
    "\n",
    "In this bonus challenge, you'll need to check the winner of the battle but this time, a sorcerer wins if he succeeds in winning 3 spell clashes in a row.\n",
    "\n",
    "Also, the spells now have a name and there is a dictionary that associates that name to a power.\n",
    "\n",
    "```\n",
    "POWER = {\n",
    "    'Fireball': 50, \n",
    "    'Lightning bolt': 40, \n",
    "    'Magic arrow': 10, \n",
    "    'Black Tentacles': 25, \n",
    "    'Contagion': 45\n",
    "}\n",
    "\n",
    "gandalf = ['Fireball', 'Lightning bolt', 'Lightning bolt', 'Magic arrow', 'Fireball', \n",
    "           'Magic arrow', 'Lightning bolt', 'Fireball', 'Fireball', 'Fireball']\n",
    "saruman = ['Contagion', 'Contagion', 'Black Tentacles', 'Fireball', 'Black Tentacles', \n",
    "           'Lightning bolt', 'Magic arrow', 'Contagion', 'Magic arrow', 'Magic arrow']\n",
    "```\n",
    "\n",
    "#### 1. Create variables `POWER`, `gandalf` and `saruman` as seen above. Create a variable called `spells` to store the number of spells that the sorcerers cast. "
   ]
  },
  {
   "cell_type": "code",
   "execution_count": 5,
   "metadata": {},
   "outputs": [],
   "source": [
    "power = {\n",
    "    'Fireball': 50, \n",
    "    'Lightning bolt': 40, \n",
    "    'Magic arrow': 10, \n",
    "    'Black Tentacles': 25, \n",
    "    'Contagion': 45\n",
    "}\n",
    "\n",
    "gandalf = ['Fireball', 'Lightning bolt', 'Lightning bolt', 'Magic arrow', 'Fireball', \n",
    "           'Magic arrow', 'Lightning bolt', 'Fireball', 'Fireball', 'Fireball']\n",
    "saruman = ['Contagion', 'Contagion', 'Black Tentacles', 'Fireball', 'Black Tentacles', \n",
    "           'Lightning bolt', 'Magic arrow', 'Contagion', 'Magic arrow', 'Magic arrow']"
   ]
  },
  {
   "cell_type": "markdown",
   "metadata": {},
   "source": [
    "#### 2. Create two variables called `gandalf_wins` and `saruman_wins`. Set both of them to 0. "
   ]
  },
  {
   "cell_type": "code",
   "execution_count": 6,
   "metadata": {},
   "outputs": [],
   "source": [
    "gandalf_wins = 0\n",
    "saruman_wins = 0"
   ]
  },
  {
   "cell_type": "markdown",
   "metadata": {},
   "source": [
    "#### 3. Create two variables called `gandalf_power` and `saruman_power` to store the list of spell powers of each sorcerer."
   ]
  },
  {
   "cell_type": "code",
   "execution_count": 7,
   "metadata": {},
   "outputs": [],
   "source": [
    "gandalf_power = []\n",
    "saruman_power = []"
   ]
  },
  {
   "cell_type": "markdown",
   "metadata": {},
   "source": [
    "#### 4. The battle starts! Using the variables you've created above, code the execution of spell clashes. Remember that a sorcerer wins if he succeeds in winning 3 spell clashes in a row. \n",
    "If a clash ends up in a tie, the counter of wins in a row is not restarted to 0. Remember to print who is the winner of the battle. "
   ]
  },
  {
   "cell_type": "code",
   "execution_count": 8,
   "metadata": {},
   "outputs": [
    {
     "name": "stdout",
     "output_type": "stream",
     "text": [
      "[1, 1, 1, 1, 1, 1, -1, 1, -1, -1]\n",
      "[1, 1, 1, 1]\n",
      "Gandalf again is the f** winner.\n"
     ]
    }
   ],
   "source": [
    "#creating gandalf_power list using values from Power\n",
    "for spell in gandalf:\n",
    "    gandalf_p = power[spell]\n",
    "    gandalf_power.append(gandalf_p)\n",
    "\n",
    "#creating saruman_power list using values from Power\n",
    "for spell in saruman:\n",
    "    saruman_p = power[spell]\n",
    "    saruman_power.append(saruman_p)\n",
    "\n",
    "#creating a wins list just as above (there calles spells), putting the winner inside\n",
    "wins = []\n",
    "for n in range(0, 10):   \n",
    "    if gandalf[n] > saruman[n]:\n",
    "        wins.append(1)\n",
    "    elif gandalf[n] < saruman[n]:\n",
    "        wins.append(-1)\n",
    "    else:\n",
    "        wins.append(0)\n",
    "print(wins)\n",
    "\n",
    "# loop over the list for n in a row or 0 (tie) and make a new list three_in_row\n",
    "n = 3\n",
    "three_in_row = []\n",
    "for i in range(len(wins)-n):\n",
    "    if len(set(wins[i: i+n])) == 1: \n",
    "        three_in_row.append(wins[i])\n",
    "print(three_in_row)\n",
    "\n",
    "# Index 0 in three_in_row is the winner\n",
    "if three_in_row[0] == 1:\n",
    "    print(\"Gandalf again is the f** winner.\")\n",
    "elif three_in_row[0] == -1:\n",
    "    print(\"Saruman is the winner.\")\n",
    "else:\n",
    "    print(\"Its a tie!\")"
   ]
  },
  {
   "cell_type": "markdown",
   "metadata": {},
   "source": [
    "#### 5. Find the average spell power of Gandalf and Saruman. "
   ]
  },
  {
   "cell_type": "code",
   "execution_count": 9,
   "metadata": {},
   "outputs": [
    {
     "name": "stdout",
     "output_type": "stream",
     "text": [
      "Gandalfs average spell power is 39.0 .\n",
      "Sarumans average spell power is 30.5 .\n"
     ]
    }
   ],
   "source": [
    "mean = sum(gandalf_power) / len(gandalf_power)\n",
    "print(\"Gandalfs average spell power is\", mean, \".\")\n",
    "\n",
    "mean = sum(saruman_power) / len(saruman_power)\n",
    "print(\"Sarumans average spell power is\", mean, \".\")"
   ]
  },
  {
   "cell_type": "markdown",
   "metadata": {},
   "source": [
    "#### 6. Find the standard deviation of the spell power of Gandalf and Saruman. "
   ]
  },
  {
   "cell_type": "code",
   "execution_count": 10,
   "metadata": {},
   "outputs": [
    {
     "name": "stdout",
     "output_type": "stream",
     "text": [
      "The standard deviation of Gandalfs Power is 17.36 ??? (whatever unit magic power is measured).\n",
      "The standard deviation of Gandalfs Power is 15.56 .\n"
     ]
    }
   ],
   "source": [
    "#first calculate the variance in list gandalf_power\n",
    "gandalf_power_var = []\n",
    "for var in gandalf_power:\n",
    "    squ_diff = (var - mean)**2\n",
    "    gandalf_power_var.append(squ_diff)\n",
    "variance_g = sum(gandalf_power_var) / len(gandalf_power_var)\n",
    "\n",
    "#second calculate the variance in list saruman_power\n",
    "saruman_power_var = []\n",
    "for var in saruman_power:\n",
    "    squ_diff = (var - mean)**2\n",
    "    saruman_power_var.append(squ_diff)\n",
    "variance_s = sum(saruman_power_var) / len(saruman_power_var)\n",
    "\n",
    "#second square root of each\n",
    "sigma_g = variance_g **0.5\n",
    "sigma_s = variance_s **0.5\n",
    "print(\"The standard deviation of Gandalfs Power is\", round(sigma_g,2), \"??? (whatever unit magic power is measured).\")\n",
    "print(\"The standard deviation of Gandalfs Power is\", round(sigma_s,2),\".\")\n",
    "\n"
   ]
  }
 ],
 "metadata": {
  "kernelspec": {
   "display_name": "Python 3",
   "language": "python",
   "name": "python3"
  },
  "language_info": {
   "codemirror_mode": {
    "name": "ipython",
    "version": 3
   },
   "file_extension": ".py",
   "mimetype": "text/x-python",
   "name": "python",
   "nbconvert_exporter": "python",
   "pygments_lexer": "ipython3",
   "version": "3.8.5"
  }
 },
 "nbformat": 4,
 "nbformat_minor": 2
}
